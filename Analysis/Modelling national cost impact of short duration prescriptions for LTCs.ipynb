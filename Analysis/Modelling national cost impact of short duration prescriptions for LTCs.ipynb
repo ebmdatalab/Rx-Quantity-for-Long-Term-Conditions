{
 "cells": [
  {
   "cell_type": "markdown",
   "metadata": {},
   "source": [
    "## Aim: To model the cost impact of dispensing one month rather than 2 or 3 months\n",
    "\n",
    "We examined the cost of a policy switch to recommend two or three monthly prescriptions across the NHS where there is no clinical rationale for issuing shorter durations. We estimated the cost to the NHS in ££, \n",
    "- savings to  NHS in staff time, \n",
    "- savings in time for patients and \n",
    "- the estimated economic burden that would be relieved. "
   ]
  },
  {
   "cell_type": "markdown",
   "metadata": {},
   "source": [
    "### What are the costs to include?"
   ]
  },
  {
   "cell_type": "markdown",
   "metadata": {},
   "source": [
    "> Longer prescription lengths were associated with more medication waste per prescription. However, when including dispensing fees and prescriber time, longer prescription lengths resulted in lower TUC. This finding was consistent across all five cohorts. Savings ranged from £8.38 to £12.06 per prescription per 120 days if a single long prescription was issued instead of multiple short prescriptions. Prescriber time costs accounted for the largest component of TUC.\n",
    "\n",
    "[Doble et al 2017]\n",
    "\n",
    "**Dispensing fees**\n",
    "\n",
    "- Currently 126p per item. \n",
    "- Plus 2% of the cost per prescription (cost per day multiplied by prescription length) for prescriptions over £100 \\*see below\n",
    "\n",
    "(https://psnc.org.uk/dispensing-supply/endorsement/fees-allowances/) \n",
    "\n",
    "**Prescriber time**\n",
    "\n",
    "Depending on the item, the prescriber time per prescription varies [Doble et al 2017]\n",
    "- antihypertensives: £3.77 (in 3-month scenario), £3.76 (28 days)\t\n",
    "- diabetes: £3.55 (in 3-month scenario), £3.54 (28 days)\t\n",
    "- SSRIs: £3.18 (in 3-month scenario), £3.23 (28 days)\n",
    "\n",
    "Note they use Figures from Curtis et al 2015, which are:\n",
    "- GP time £3.80/min, all practice expenses and including qualification costs (excluding quals it would be £3.20/min) - however, these are costs per minute **of patient contact** i.e. denominator used to calculate this rate was total patient contact time rather than total working hours.  \n",
    "- GP Nurse time £0.93/min (£56/hr per hour of F2F contact time), including qualification costs. (Basic rate is £36/hr / 0.6/min)\n",
    "\n",
    "Latest GP/nurse Figures from Curtis et al 2019:\n",
    "- GP  £132/hr (£2.20/min)\n",
    "- Nurse £37/hr (£0.62/min)\n",
    "\n",
    "**Wastage**\n",
    "\n",
    "Depending on the item, the longer the duration, the more medicines will be wasted [Doble et al 2017]\n",
    "- antihypertensives: £0.51 (in 3-month scenario), £0.07 (28 days)\t\n",
    "- diabetes: £1.37 (in 3-month scenario), £0.33 (28 days)\t\n",
    "- SSRIs: £0.43 (in 3-month scenario), £0.21 (28 days)\n",
    "\n",
    "These figures may need to be updated to reflect current values.\n",
    "\n",
    "\n",
    "**Refs**\n",
    "- *Doble B, Payne R, Harshfield A, Wilson EC. BMJ Open. 2017;7(12):e019382.*\n",
    "- *Curtis L , Burns A . Unit Costs of Health and Social Care. Canterbury, UK: Personal Social Services Research Unit, The University of Kent, 2015*"
   ]
  },
  {
   "cell_type": "markdown",
   "metadata": {},
   "source": [
    "**Fees for expensive prescriptions (over £100)**\n",
    "\n",
    "Not a consideration for the drugs we are looking at, all of which are available generically:\n",
    "- Ramipril £2-5 /pack https://openprescribing.net/tariff/?codes=0205051R0AAADAD&codes=0205051R0AAANAN&codes=0205051R0AAAAAA&codes=0205051R0AAAKAK&codes=0205051R0AAABAB&codes=0205051R0AAALAL&codes=0205051R0AAACAC&codes=0205051R0AAAMAM\n",
    "- Atorvastatin <£2/pack https://openprescribing.net/tariff/?codes=0212000B0AAAAAA&codes=0212000B0AAABAB&codes=0212000B0AAACAC&codes=0212000B0AAADAD\n",
    "- Simvastatin <£2/pack https://openprescribing.net/tariff/?codes=0212000Y0AAAAAA&codes=0212000Y0AAABAB&codes=0212000Y0AAADAD&codes=0212000Y0AAAHAH\n",
    "- Levothyroxine max £15/pack during 18-19 https://openprescribing.net/tariff/?codes=0602010V0AABZBZ&codes=0602010V0AAGHGH&codes=0602010V0AABWBW&codes=0602010V0AABXBX&codes=0602010V0AABYBY\n",
    "- Amlodipine <£2/pack https://openprescribing.net/tariff/?codes=0206020A0AAABAB&codes=0206020A0AAAAAA"
   ]
  },
  {
   "cell_type": "markdown",
   "metadata": {},
   "source": [
    "**Example**\n",
    "\n",
    "> **Three-Month Versus 28-Day Prescribing of Antihypertensives**\n",
    "\n",
    "> We conducted two analyses representing alternative scenarios. \n",
    "In both cases we first added in the transaction and drug wastage costs (Table 3). \n",
    "\n",
    "> For the 3-month arm this equated to an extra \n",
    "£21.01 per annum [= dispensing fees (£0.90) + prescriber time (£3.77) + wastage costs (£0.51) × (365/90)], \n",
    "\n",
    "> and in the 28-day arm, \n",
    "£61.68 [= dispensing fees (£0.90) + prescriber time (£3.76) + wastage costs (£0.07) × (365/28)].\n",
    "\n",
    "From Martin A, Payne R, Wilson EC. Appl Health Econ Health Policy 2018;16:317–30. doi:10.1007/s40258-018-0383-9"
   ]
  },
  {
   "cell_type": "markdown",
   "metadata": {},
   "source": [
    "## Dispensing fees"
   ]
  },
  {
   "cell_type": "markdown",
   "metadata": {},
   "source": [
    "- 126p - cost per item dispensed \n",
    "- Currently 60% of our selected items are dispensed in 28-day packs."
   ]
  },
  {
   "cell_type": "code",
   "execution_count": 36,
   "metadata": {},
   "outputs": [
    {
     "name": "stdout",
     "output_type": "stream",
     "text": [
      "total dispensing cost for 1, 4, 8 or 12 week supplies: £30.1 M\n",
      "total dispensing cost for 4-week / one month prescriptions: £20.4 M\n"
     ]
    }
   ],
   "source": [
    "print (\"total dispensing cost for 1, 4, 8 or 12 week supplies: £%4.1f M\"%(1.26*(2674229+16212361+4604721+423880)/1E6))\n",
    "print (\"total dispensing cost for 4-week / one month prescriptions: £%4.1f M\"%(1.26*16212361/1E6))"
   ]
  },
  {
   "cell_type": "code",
   "execution_count": 35,
   "metadata": {},
   "outputs": [
    {
     "name": "stdout",
     "output_type": "stream",
     "text": [
      "potential reduction in cost if 90 percent one-month prescriptions were 3-months: £ 6.1 M\n"
     ]
    }
   ],
   "source": [
    "# We assume that approx 10% of one-month prescriptions are appropriate (e.g. newly initiated patients). \n",
    "\n",
    "# Calculate cost of dispensing 90% of prescriptions in 3-month batches\n",
    "n=0.9*1.26*16212361/3\n",
    "\n",
    "print (\"potential reduction in cost if 90 percent one-month prescriptions were 3-months: £%4.1f M\"%(n/1E6))"
   ]
  },
  {
   "cell_type": "markdown",
   "metadata": {},
   "source": [
    "## Patient time and expenses"
   ]
  },
  {
   "cell_type": "code",
   "execution_count": null,
   "metadata": {
    "collapsed": true
   },
   "outputs": [],
   "source": []
  }
 ],
 "metadata": {
  "kernelspec": {
   "display_name": "Python 3",
   "language": "python",
   "name": "python3"
  },
  "language_info": {
   "codemirror_mode": {
    "name": "ipython",
    "version": 3
   },
   "file_extension": ".py",
   "mimetype": "text/x-python",
   "name": "python",
   "nbconvert_exporter": "python",
   "pygments_lexer": "ipython3",
   "version": "3.6.3"
  }
 },
 "nbformat": 4,
 "nbformat_minor": 2
}
