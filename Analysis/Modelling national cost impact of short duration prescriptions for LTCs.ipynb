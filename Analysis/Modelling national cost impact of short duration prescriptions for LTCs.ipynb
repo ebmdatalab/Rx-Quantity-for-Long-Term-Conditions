{
 "cells": [
  {
   "cell_type": "markdown",
   "metadata": {},
   "source": [
    "## Aim: To model the cost impact of dispensing one month rather than 2 or 3 months\n",
    "\n",
    "We examined the cost of a policy switch to recommend two or three monthly prescriptions across the NHS where there is no clinical rationale for issuing shorter durations. We estimated the cost to the NHS in ££, \n",
    "- savings to  NHS in staff time, \n",
    "- savings in time for patients and \n",
    "- the estimated economic burden that would be relieved. "
   ]
  },
  {
   "cell_type": "markdown",
   "metadata": {},
   "source": [
    "### What are the costs to include?"
   ]
  },
  {
   "cell_type": "markdown",
   "metadata": {},
   "source": [
    "> Longer prescription lengths were associated with more medication waste per prescription. However, when including dispensing fees and prescriber time, longer prescription lengths resulted in lower TUC. This finding was consistent across all five cohorts. Savings ranged from £8.38 to £12.06 per prescription per 120 days if a single long prescription was issued instead of multiple short prescriptions. Prescriber time costs accounted for the largest component of TUC.\n",
    "\n",
    "[Doble et al 2017]\n",
    "\n",
    "**1. Dispensing fees**\n",
    "\n",
    "- Currently 126p per item. \n",
    "- Plus 2% of the cost per prescription (cost per day multiplied by prescription length) for prescriptions over £100 \\*see below\n",
    "\n",
    "(https://psnc.org.uk/dispensing-supply/endorsement/fees-allowances/) \n",
    "\n",
    "**2. Prescriber time**\n",
    "\n",
    "Depending on the item, the prescriber time per prescription varies [Doble et al 2017]\n",
    "- antihypertensives: £3.77 (in 3-month scenario), £3.76 (28 days)\t\n",
    "- diabetes: £3.55 (in 3-month scenario), £3.54 (28 days)\t\n",
    "- SSRIs: £3.18 (in 3-month scenario), £3.23 (28 days)\n",
    "\n",
    "Note they use Figures from Curtis et al 2015, which are:\n",
    "- GP time £3.80/min, all practice expenses and including qualification costs (excluding quals it would be £3.20/min) - however, these are costs per minute **of patient contact** i.e. denominator used to calculate this rate was total patient contact time rather than total working hours?  \n",
    "- GP Nurse time £0.93/min (£56/hr per hour of F2F contact time), including qualification costs. (Basic rate is £36/hr / 0.6/min)\n",
    "\n",
    "Latest GP/nurse Figures from Curtis et al 2019:\n",
    "- GP  £132/hr (£2.20/min)\n",
    "- Nurse £37/hr (£0.62/min)\n",
    "\n",
    "With electronic repeat _dispensing_, it is possible that 12 months' of 28+ days' supply are authorised in one go, which means that changing the duration of each prescription would have no effect on prescriber time. With repeat _prescribing_, the patient must still request each prescription from the practice. \n",
    "\n",
    "**3. Wastage**\n",
    "\n",
    "Depending on the item, the longer the duration, the more medicines will be wasted [Doble et al 2017]\n",
    "- antihypertensives: £0.51 (in 3-month scenario), £0.07 (28 days)\t\n",
    "- diabetes: £1.37 (in 3-month scenario), £0.33 (28 days)\t\n",
    "- SSRIs: £0.43 (in 3-month scenario), £0.21 (28 days)\n",
    "\n",
    "- For statins (secondary prevention) they found that 3.325% days of shorter duration \n",
    "  (under 60 days) prescription supplies were wasted,\n",
    "  compared to 3.663% of longer duration (>=60 days) prescriptions. \n",
    "\n",
    "**4. Patient time and expenses**\n",
    "\n",
    "**5. Income generation**\n",
    "\n",
    "**6. Errors**\n",
    "\n",
    "**Refs**\n",
    "- *Doble B, Payne R, Harshfield A, Wilson EC. BMJ Open. 2017;7(12):e019382.*\n",
    "- *Curtis L , Burns A . Unit Costs of Health and Social Care. Canterbury, UK: Personal Social Services Research Unit, The University of Kent, 2015*"
   ]
  },
  {
   "cell_type": "markdown",
   "metadata": {},
   "source": [
    "**Fees for expensive prescriptions (over £100)**\n",
    "\n",
    "Not a consideration for the drugs we are looking at, all of which are available generically:\n",
    "- Ramipril £2-5 /pack https://openprescribing.net/tariff/?codes=0205051R0AAADAD&codes=0205051R0AAANAN&codes=0205051R0AAAAAA&codes=0205051R0AAAKAK&codes=0205051R0AAABAB&codes=0205051R0AAALAL&codes=0205051R0AAACAC&codes=0205051R0AAAMAM\n",
    "- Atorvastatin <£2/pack https://openprescribing.net/tariff/?codes=0212000B0AAAAAA&codes=0212000B0AAABAB&codes=0212000B0AAACAC&codes=0212000B0AAADAD\n",
    "- Simvastatin <£2/pack https://openprescribing.net/tariff/?codes=0212000Y0AAAAAA&codes=0212000Y0AAABAB&codes=0212000Y0AAADAD&codes=0212000Y0AAAHAH\n",
    "- Levothyroxine max £15/pack during 18-19 https://openprescribing.net/tariff/?codes=0602010V0AABZBZ&codes=0602010V0AAGHGH&codes=0602010V0AABWBW&codes=0602010V0AABXBX&codes=0602010V0AABYBY\n",
    "- Amlodipine <£2/pack https://openprescribing.net/tariff/?codes=0206020A0AAABAB&codes=0206020A0AAAAAA"
   ]
  },
  {
   "cell_type": "markdown",
   "metadata": {},
   "source": [
    "**Example**\n",
    "\n",
    "> **Three-Month Versus 28-Day Prescribing of Antihypertensives**\n",
    "\n",
    "> We conducted two analyses representing alternative scenarios. \n",
    "In both cases we first added in the transaction and drug wastage costs (Table 3). \n",
    "\n",
    "> For the 3-month arm this equated to an extra \n",
    "£21.01 per annum [= dispensing fees (£0.90) + prescriber time (£3.77) + wastage costs (£0.51) × (365/90)], \n",
    "\n",
    "> and in the 28-day arm, \n",
    "£61.68 [= dispensing fees (£0.90) + prescriber time (£3.76) + wastage costs (£0.07) × (365/28)].\n",
    "\n",
    "From Martin A, Payne R, Wilson EC. Appl Health Econ Health Policy 2018;16:317–30. doi:10.1007/s40258-018-0383-9"
   ]
  },
  {
   "cell_type": "markdown",
   "metadata": {},
   "source": [
    "# Calculations"
   ]
  },
  {
   "cell_type": "markdown",
   "metadata": {},
   "source": [
    "## 1. Dispensing fees"
   ]
  },
  {
   "cell_type": "markdown",
   "metadata": {},
   "source": [
    "- 126p - cost per item dispensed \n",
    "- Currently 60% of our selected items are dispensed in 28-day packs."
   ]
  },
  {
   "cell_type": "code",
   "execution_count": 36,
   "metadata": {},
   "outputs": [
    {
     "name": "stdout",
     "output_type": "stream",
     "text": [
      "total dispensing cost for 1, 4, 8 or 12 week supplies: £30.1 M\n",
      "total dispensing cost for 4-week / one month prescriptions: £20.4 M\n"
     ]
    }
   ],
   "source": [
    "print (\"total dispensing cost for 1, 4, 8 or 12 week supplies: £%4.1f M\"%(1.26*(2674229+16212361+4604721+423880)/1E6))\n",
    "print (\"total dispensing cost for 4-week / one month prescriptions: £%4.1f M\"%(1.26*16212361/1E6))"
   ]
  },
  {
   "cell_type": "code",
   "execution_count": 35,
   "metadata": {},
   "outputs": [
    {
     "name": "stdout",
     "output_type": "stream",
     "text": [
      "potential reduction in cost if 90 percent one-month prescriptions were 3-months: £ 6.1 M\n"
     ]
    }
   ],
   "source": [
    "# We assume that approx 10% of one-month prescriptions are appropriate (e.g. newly initiated patients). \n",
    "\n",
    "# Calculate cost of dispensing 90% of prescriptions in 3-month batches\n",
    "n=0.9*1.26*16212361/3\n",
    "\n",
    "print (\"potential reduction in cost if 90 percent one-month prescriptions were 3-months: £%4.1f M\"%(n/1E6))"
   ]
  },
  {
   "cell_type": "markdown",
   "metadata": {},
   "source": [
    "## 2. Prescriber time"
   ]
  },
  {
   "cell_type": "code",
   "execution_count": 12,
   "metadata": {},
   "outputs": [
    {
     "name": "stdout",
     "output_type": "stream",
     "text": [
      "£5,714,857  cost to approve all 28-day prescriptions\n",
      "£2,285,943  cost to approve if 90% 28-day prescriptions were 84-days\n"
     ]
    }
   ],
   "source": [
    "#Latest GP/nurse overall cost figures from Curtis et al 2019:\n",
    "\n",
    "#GP £132/hr (£2.20/min)\n",
    "#Nurse £37/hr (£0.62/min)\n",
    "\n",
    "cdoc = 2.2 # cost per minute for GP time\n",
    "cnur = 0.62 # cost per minute for nurse time\n",
    "\n",
    "# note the values for the following variables are selected arbitrarily\n",
    "\n",
    "prop_doc = 0.5 # proportion approved by a GP\n",
    "prop_nur = 1-prop_doc # proportion approved by a nurse\n",
    "\n",
    "t = 0.5 # time taken to approve a repeat prescription (minutes)\n",
    "prop_erd = 0.5 # proportion of prescriptions on electronic repeat dispensing (assume zero cost - or one cost per 12 months?)\n",
    "\n",
    "cpp_doc = cdoc*t*(1-prop_erd) # cost per average prescription (doc)\n",
    "cpp_nur = cnur*t*(1-prop_erd) # cost per average prescription (nur)\n",
    "\n",
    "\n",
    "print (\"£{:,.0f}\".format(16212361*((prop_doc*cpp_doc) + (prop_nur*cpp_nur))), \" cost to approve all 28-day prescriptions\")\n",
    "print (\"£{:,.0f}\".format(16212361*(0.1+0.9/3)*((prop_doc*cpp_doc) + (prop_nur*cpp_nur))), \" cost to approve if 90% 28-day prescriptions were 84-days\")"
   ]
  },
  {
   "cell_type": "markdown",
   "metadata": {},
   "source": [
    "## 3. Wastage"
   ]
  },
  {
   "cell_type": "code",
   "execution_count": 72,
   "metadata": {},
   "outputs": [
    {
     "name": "stdout",
     "output_type": "stream",
     "text": [
      "£ 0.02660  (3.325%) wasted per 28-day supply\n",
      "£ 0.08791  (3.663%) wasted per 84-day supply\n"
     ]
    }
   ],
   "source": [
    "# For statins (secondary prevention Doble et al found that 3.325% days of shorter duration (\\<60 days) prescription supplies\n",
    "# were wasted, compared to 3.663% of longer duration  (\\>=60 days) prescriptions. \n",
    "# [Doble et al 2017]\n",
    "\n",
    "# Atorvastatin 20mg averaged around 80p per 28-tablet pack in 2018-19 (eyeballed)\n",
    "p = 0.8\n",
    "print (\"£%8.5f\"%(p*0.03325), \" (3.325%) wasted per 28-day supply\")\n",
    "print (\"£%8.5f\"%(3*p*0.03663), \" (3.663%) wasted per 84-day supply\")"
   ]
  },
  {
   "cell_type": "code",
   "execution_count": 74,
   "metadata": {},
   "outputs": [
    {
     "name": "stdout",
     "output_type": "stream",
     "text": [
      "£431,249  (3.325%) wasted of all 28-day supplies\n",
      "£1,425,261  (3.663%) wasted if all 28-day supplies were 84-day\n",
      "£1,325,860  wasted if 90% of all 28-day supplies were 84-day\n"
     ]
    }
   ],
   "source": [
    "# Assuming this scales up to all of our 5 prescriptions...\n",
    "print (\"£{:,.0f}\".format(p*0.03325*16212361), \" (3.325%) wasted of all 28-day supplies\")\n",
    "print (\"£{:,.0f}\".format(p*0.03663*16212361*3), \" (3.663%) wasted if all 28-day supplies were 84-day\")\n",
    "print (\"£{:,.0f}\".format((p*0.03663*16212361*3*0.9) + (p*0.03325*16212361*0.1)), \" wasted if 90% of all 28-day supplies were 84-day\")"
   ]
  },
  {
   "cell_type": "markdown",
   "metadata": {},
   "source": [
    "## 4. Patient time and expenses"
   ]
  },
  {
   "cell_type": "markdown",
   "metadata": {
    "collapsed": true
   },
   "source": [
    "- Time required to travel to pharmacy / GP?\n",
    "- DIfferences for dispensing practices (>1.6m)?\n",
    "- Time taken to collect prescription? Under electronic prescribing prescriptions may already be ready to collect when the patient arrives. \n",
    "\n",
    "\n",
    "- Sliding scale might be the best way! \n",
    "- The majority of population live within 20 mins walk of a pharmacy (few years old maybe)"
   ]
  },
  {
   "cell_type": "code",
   "execution_count": 83,
   "metadata": {},
   "outputs": [
    {
     "name": "stdout",
     "output_type": "stream",
     "text": [
      "2,702,060  total patient hours to collect all 28-day supplies\n",
      "900,687  total patient hours if all 28-day supplies were 84 days\n",
      "1,080,824  total patient hours if 90% 28-day supplies were 84 days\n",
      "2.0  hours per patient per year on 28-day supplies\n",
      "0.7  hours per patient per year on 84-day supplies\n"
     ]
    }
   ],
   "source": [
    "# Conservatively assume 10 mins per prescription (a low estimate to account for most people going to the pharmacy while nearby)\n",
    "t = 10\n",
    "\n",
    "print (\"{:,.0f}\".format(t*16212361/60), \" total patient hours to collect all 28-day supplies\")\n",
    "print (\"{:,.0f}\".format(t*16212361/60/3), \" total patient hours if all 28-day supplies were 84 days\")\n",
    "print (\"{:,.0f}\".format(((0.1)+(0.9/3))*(t*16212361/60)), \" total patient hours if 90% 28-day supplies were 84 days\")\n",
    "print (\"{:,.1f}\".format((t*12/60)), \" hours per patient per year on 28-day supplies\")\n",
    "print (\"{:,.1f}\".format((t*12/60/3)), \" hours per patient per year on 84-day supplies\")\n"
   ]
  },
  {
   "cell_type": "code",
   "execution_count": null,
   "metadata": {
    "collapsed": true
   },
   "outputs": [],
   "source": [
    "# IFS should have an estimate somewhere for the cost of public time... "
   ]
  },
  {
   "cell_type": "markdown",
   "metadata": {},
   "source": [
    "## 5. Income generation"
   ]
  },
  {
   "cell_type": "markdown",
   "metadata": {},
   "source": [
    "Patients eligible to pay for prescriptions pay a fixed amount per prescription which contributes towards the total prescribing bill. For each prescription dispensed for 84 rather than 28 days, income would be reduced by 2/3.\n",
    "\n",
    "However, the majority of prescriptions (90%?) are exempt from charges, for example over 60s, under 19s, people on low incomes etc. Those eligible to pay who collect a lot of medications can have their total capped. \n",
    "\n",
    "Therefore, for the medications we are considering we may expect that >95% of the prescriptions (2x statins, largely over-60s) are not paid for by patients. \n",
    "\n",
    "Crucially, where patients pay for routine prescriptions, it is likely that they are already given 84 days supply to reduce the cost burden on them.\n",
    "\n",
    "Therefore, we would expect a very small decrease in income from changing patients from 28 day prescriptions to longer durations."
   ]
  },
  {
   "cell_type": "markdown",
   "metadata": {},
   "source": [
    "## 6. Errors"
   ]
  },
  {
   "cell_type": "code",
   "execution_count": null,
   "metadata": {
    "collapsed": true
   },
   "outputs": [],
   "source": [
    "# Error rate has been reported between 0.08% and 3.3% per item dispensed"
   ]
  }
 ],
 "metadata": {
  "kernelspec": {
   "display_name": "Python 3",
   "language": "python",
   "name": "python3"
  },
  "language_info": {
   "codemirror_mode": {
    "name": "ipython",
    "version": 3
   },
   "file_extension": ".py",
   "mimetype": "text/x-python",
   "name": "python",
   "nbconvert_exporter": "python",
   "pygments_lexer": "ipython3",
   "version": "3.6.3"
  }
 },
 "nbformat": 4,
 "nbformat_minor": 2
}
