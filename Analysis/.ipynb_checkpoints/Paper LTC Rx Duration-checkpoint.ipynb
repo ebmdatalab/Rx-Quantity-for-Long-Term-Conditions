{
 "cells": [
  {
   "cell_type": "markdown",
   "metadata": {},
   "source": [
    "We recently launched a new measure of [seven day prescribing for long term conditions](https://openprescribing.net/measure/seven_day_prescribing/all-england/) where we found variation across the country. In the background we state that there is no consensus on duration of long term prescriptions and guidance varies throughout the country around stable long term prescriptions. Most CCGs will have some form of guidance generally for one, two or three months. \n",
    "\n",
    "The University of Bristol have produced a [policy briefing](https://www.bristol.ac.uk/policybristol/policy-briefings/repeat-prescription-costs/) arguing that three month repeat prescriptions are more cost-effective. They base this on a systematic review and studies in CPRD. \n",
    "\n",
    "I have had a quick skim of the systematic review (based exclusively on American data) and the CPRD study. The policy briefing states that _current guidance to issue 28-day repeat prescriptions_. This deviates from the DataLab assertion in the seven days measure that there is no consensus. Martin, Payne and Wilson study is is based on old guidance from a handful of areas. This notebook seeks to ascertain what the variation is in 28 v 56 v 84 across the country for our basket of medicines commonly prescribed once daily for long term conditions on the complete prescribing dataset for England."
   ]
  },
  {
   "cell_type": "code",
   "execution_count": 1,
   "metadata": {},
   "outputs": [],
   "source": [
    "##importing libraries that are need to support analysis\n",
    "import pandas as pd\n",
    "import numpy as np\n",
    "import plotly.express as px\n",
    "from ebmdatalab import bq, maps, charts\n",
    "import matplotlib.pyplot as plt\n"
   ]
  },
  {
   "cell_type": "code",
   "execution_count": null,
   "metadata": {},
   "outputs": [],
   "source": [
    "### here we extract data for modelling\n",
    "sql = '''\n",
    "SELECT\n",
    "  pct,\n",
    "  items,\n",
    "  quantity_per_item\n",
    "FROM\n",
    " ebmdatalab.hscic.raw_prescribing_normalised AS presc\n",
    "JOIN\n",
    "  hscic.ccgs AS ccgs\n",
    "ON\n",
    "presc.pct=ccgs.code\n",
    "WHERE\n",
    "(bnf_code LIKE \"0205051R0%\" OR  ##ramipril\n",
    "bnf_code LIKE \"0212000B0%\" OR ##atrovastatin\n",
    "bnf_code LIKE \"0212000Y0%\" OR ##simvastatin\n",
    "bnf_code LIKE \"0602010V0%\" OR ##levothyroxine\n",
    "bnf_code LIKE \"0206020A0%\") ##amlodipine\n",
    "AND\n",
    "(bnf_name LIKE '%_Tab%' or bnf_name LIKE '%_Cap%') ##this restricts to tablets or capsules\n",
    "AND (month >= '2018-08-01'\n",
    "    AND month <= '2019-07-01')\n",
    "AND\n",
    "ccgs.org_type='CCG'\n",
    "GROUP BY\n",
    "  pct,\n",
    "  items,\n",
    "  quantity_per_item\n",
    "    '''\n",
    "\n",
    "df_ltc = bq.cached_read(sql, csv_path='ltc_qty.csv')\n",
    "df_ltc.head(10)"
   ]
  },
  {
   "cell_type": "code",
   "execution_count": null,
   "metadata": {},
   "outputs": [],
   "source": [
    "df_ltc.info()"
   ]
  },
  {
   "cell_type": "code",
   "execution_count": null,
   "metadata": {},
   "outputs": [],
   "source": [
    "df_rx_repeat = df_ltc.groupby(['quantity_per_item'])['items'].sum().reset_index()\n",
    "df_rx_repeat[\"total_quantity\"] = df_rx_repeat[\"quantity_per_item\"]*df_rx_repeat[\"items\"] \n",
    "df_rx_repeat.tail(5)"
   ]
  },
  {
   "cell_type": "code",
   "execution_count": null,
   "metadata": {},
   "outputs": [],
   "source": [
    "df_rx_repeat.describe()"
   ]
  },
  {
   "cell_type": "markdown",
   "metadata": {},
   "source": [
    "There is a maximum of 8400 on a single...... That is 23 years worth of tablets, lets investigate further below."
   ]
  },
  {
   "cell_type": "markdown",
   "metadata": {},
   "source": []
  },
  {
   "cell_type": "code",
   "execution_count": null,
   "metadata": {},
   "outputs": [],
   "source": [
    "####  ZOOM IN BELOW\n",
    "fig = px.bar(df_rx_repeat, x='quantity_per_item', y='items')\n",
    "fig.show()"
   ]
  },
  {
   "cell_type": "markdown",
   "metadata": {},
   "source": [
    "# ^^^^ ZOOM IN "
   ]
  },
  {
   "cell_type": "code",
   "execution_count": null,
   "metadata": {},
   "outputs": [],
   "source": [
    "###here we make a list of durations we want to affect for later filtering\n",
    "lst = [7,28,56,84]"
   ]
  },
  {
   "cell_type": "code",
   "execution_count": null,
   "metadata": {},
   "outputs": [],
   "source": [
    "df_common = df_rx_repeat.loc[(df_rx_repeat[\"quantity_per_item\"].isin(lst))]\n",
    "\n",
    "print(df_common)                                                             "
   ]
  },
  {
   "cell_type": "code",
   "execution_count": null,
   "metadata": {},
   "outputs": [],
   "source": [
    "total = df_common[\"total_quantity\"].sum()\n",
    "df_common[\"proportion_of_qty\"] = df_common[\"total_quantity\"]/total*100\n",
    "df_common"
   ]
  },
  {
   "cell_type": "code",
   "execution_count": null,
   "metadata": {},
   "outputs": [],
   "source": [
    "fig = px.bar(df_common, x='quantity_per_item', y='total_quantity')\n",
    "fig.update_layout(\n",
    "    title=\"Number of Tabets/Capsules for Commonly Prescribed Quantities for Commonly Prescribed Medicines\")\n",
    "fig.show()"
   ]
  },
  {
   "cell_type": "markdown",
   "metadata": {},
   "source": [
    "Most tablets/capsules for common LTC medicines are being dispensed on 28 day prescriptions (59%) with approximately 33% being dispensed on two monthly scripts. Only 4.5% of these common medicines are being supplied on three onthly prescriptions. \n",
    "\n",
    "The Bristol paper assertion that most prescribing is 28 days is correct based on our basket of common LTC medicines. They recommend three month presctiptions as being more cost effective. Now lets look at script volume to see what the workload implications might be for our basket of common medicines."
   ]
  },
  {
   "cell_type": "code",
   "execution_count": null,
   "metadata": {},
   "outputs": [],
   "source": [
    "fig = px.bar(df_common, x='quantity_per_item', y='items')\n",
    "fig.update_layout(\n",
    "    title=\"Number of Items for Commonly Prescribed Quantities for Commonly Prescribed Medicines\")\n",
    "fig.show()"
   ]
  },
  {
   "cell_type": "markdown",
   "metadata": {},
   "source": [
    "There are 16.2million one month scripts for our basket of common medicines. There will be substantial number of prescriptions that need amending."
   ]
  },
  {
   "cell_type": "markdown",
   "metadata": {},
   "source": [
    "## CCG Variation"
   ]
  },
  {
   "cell_type": "code",
   "execution_count": null,
   "metadata": {},
   "outputs": [],
   "source": [
    "df_ccg = df_ltc.groupby(['pct','quantity_per_item'])['items'].sum().reset_index()\n",
    "df_ccg[\"total_quantity\"] = df_ccg[\"quantity_per_item\"]*df_ccg[\"items\"] \n",
    "df_ccg.tail(5)"
   ]
  },
  {
   "cell_type": "code",
   "execution_count": null,
   "metadata": {},
   "outputs": [],
   "source": [
    "df_common_ccg = df_ccg.loc[(df_ccg[\"quantity_per_item\"].isin(lst))]\n"
   ]
  },
  {
   "cell_type": "code",
   "execution_count": null,
   "metadata": {},
   "outputs": [],
   "source": [
    "ccg_total = df_common_ccg.groupby([\"pct\"]).sum().reset_index()\n",
    "ccg_total=ccg_total.rename(columns = {'total_quantity':'basket_qty'}).drop(columns =['quantity_per_item', 'items']) ##we don't need two columns\n",
    "ccg_total.head()\n"
   ]
  },
  {
   "cell_type": "code",
   "execution_count": null,
   "metadata": {},
   "outputs": [],
   "source": [
    "ccg_map =  pd.merge(df_common_ccg,ccg_total, on=\"pct\")  \n",
    "ccg_map[\"proportion_of_basket\"] = ccg_map[\"total_quantity\"]/ccg_map[\"basket_qty\"]*100\n",
    "ccg_map.head()\n",
    "\n"
   ]
  },
  {
   "cell_type": "code",
   "execution_count": null,
   "metadata": {},
   "outputs": [],
   "source": [
    "for quantity_per_item in ccg_map.quantity_per_item.unique():\n",
    "    plt.figure(figsize=(20, 7))\n",
    "    maps.ccg_map(\n",
    "        ccg_map[ccg_map['quantity_per_item'] == quantity_per_item], \n",
    "        title= (\"Proportion of Tabets/Capsules supplied on\", quantity_per_item, \"days \\n prescriptions for Commonly Prescribed Medicines\"),\n",
    "        column='proportion_of_basket', \n",
    "        separate_london=False,\n",
    "        plot_options={'vmax': 100}\n",
    "    )\n",
    "    plt.show()"
   ]
  },
  {
   "cell_type": "markdown",
   "metadata": {},
   "source": [
    "My impression is that the 28 day supply map looks similar to SystmOne v EMIS Web [map of deployment](https://github.com/ebmdatalab/jupyter-notebooks/blob/master/General%20Practice%20EHR%20Deployment/EHR%20Deployment.ipynb)"
   ]
  },
  {
   "cell_type": "markdown",
   "metadata": {},
   "source": [
    "## Excessive quantities in CCGs"
   ]
  },
  {
   "cell_type": "markdown",
   "metadata": {},
   "source": [
    "Above we saw that there are some excessive quantities being prescribed, one script for 8400 would equate to 23 years supply and it was prescribed in a single month. It is unlikely that it was dispensed but we will now interrogate the data to see what the true cost of excessive prescribing is. We cannot investigate further so we will create files for interested CCGs - perhaps we could do mass audit?"
   ]
  },
  {
   "cell_type": "code",
   "execution_count": null,
   "metadata": {},
   "outputs": [],
   "source": [
    "### here we extract data for modelling\n",
    "sql = '''\n",
    "SELECT\n",
    "  month,\n",
    "  pct,\n",
    "  practice,\n",
    "  bnf_name,\n",
    "  items,\n",
    "  actual_cost,\n",
    "  quantity_per_item\n",
    "FROM\n",
    " ebmdatalab.hscic.raw_prescribing_normalised AS presc\n",
    "JOIN\n",
    "  hscic.ccgs AS ccgs\n",
    "ON\n",
    "presc.pct=ccgs.code\n",
    "WHERE\n",
    "(bnf_code LIKE \"0205051R0%\" OR  ##ramipril\n",
    "bnf_code LIKE \"0212000B0%\" OR ##atrovastatin\n",
    "bnf_code LIKE \"0212000Y0%\" OR ##simvastatin\n",
    "bnf_code LIKE \"0602010V0%\" OR ##levothyroxine\n",
    "bnf_code LIKE \"0206020A0%\") ##amlodipine\n",
    "AND\n",
    "(bnf_name LIKE '%_Tab%' or bnf_name LIKE '%_Cap%') ##this restricts to tablets or capsules\n",
    "AND (month >= '2018-08-01'\n",
    "    AND month <= '2019-07-01')\n",
    "AND\n",
    "quantity_per_item >= 336 ##this is one years supply\n",
    "\n",
    "AND\n",
    "ccgs.org_type='CCG'\n",
    "GROUP BY\n",
    "  month,\n",
    "  pct,\n",
    "  practice,\n",
    "  bnf_name,\n",
    "  items,\n",
    "  actual_cost,\n",
    "  quantity_per_item\n",
    "    '''\n",
    "\n",
    "df_excess = bq.cached_read(sql, csv_path='ltc_qty_excess.csv')\n",
    "df_excess.head(10)"
   ]
  },
  {
   "cell_type": "code",
   "execution_count": null,
   "metadata": {},
   "outputs": [],
   "source": [
    "df_excess.describe()"
   ]
  },
  {
   "cell_type": "code",
   "execution_count": null,
   "metadata": {},
   "outputs": [],
   "source": [
    "df_excess.sum()"
   ]
  },
  {
   "cell_type": "code",
   "execution_count": null,
   "metadata": {},
   "outputs": [],
   "source": [
    "# here we create csv files for each CCG to investigate further if they wish - these are now available on GitHub\n",
    "for i, g in df_excess.groupby('pct'):\n",
    "     g.to_csv('{}.csv'.format(i.split('/')[0]), index=False)\n"
   ]
  },
  {
   "cell_type": "markdown",
   "metadata": {},
   "source": [
    " code review improvements - what I would like to tweak\n",
    "- Cartogram Map titles, they do not look right but it fails when I try tweaking. How do you combine the changing column title and a nonchangeable string\n",
    "- csv files for each ccg. I'd like to put them in a seperate folder.\n",
    "- currently has 12 months to July 19, we should update with latest if going anywhere."
   ]
  },
  {
   "cell_type": "code",
   "execution_count": null,
   "metadata": {},
   "outputs": [],
   "source": []
  }
 ],
 "metadata": {
  "kernelspec": {
   "display_name": "Python 3",
   "language": "python",
   "name": "python3"
  },
  "language_info": {
   "codemirror_mode": {
    "name": "ipython",
    "version": 3
   },
   "file_extension": ".py",
   "mimetype": "text/x-python",
   "name": "python",
   "nbconvert_exporter": "python",
   "pygments_lexer": "ipython3",
   "version": "3.6.9"
  }
 },
 "nbformat": 4,
 "nbformat_minor": 2
}
